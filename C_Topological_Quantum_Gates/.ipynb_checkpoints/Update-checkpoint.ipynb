{
 "cells": [
  {
   "cell_type": "code",
   "execution_count": 7,
   "id": "3f840851",
   "metadata": {},
   "outputs": [],
   "source": [
    "import braiding_generators.fib_multi_qudits as lib\n",
    "import os\n",
    "import pickle\n",
    "\n",
    "def save_generators(n_qubits, n_anyons):\n",
    "    \n",
    "    if os.path.exists(f'mkdir ./braiding_generators/n{n_qubits}a{n_anyons-1}'):\n",
    "        os.system(f'rm -r ./braiding_generators/n{n_qubits}a{n_anyons-1}')\n",
    "        \n",
    "    os.system(f'mkdir ./braiding_generators/n{n_qubits}a{n_anyons-1}')\n",
    "    basis = lib.find_basis(n_qubits, n_anyons-1)\n",
    "    \n",
    "    # create a binary pickle file \n",
    "    f = open(f\"./braiding_generators/n{n_qubits}a{n_anyons-1}/basis.pkl\",\"wb\")\n",
    "    pickle.dump(basis, f)\n",
    "    f.close()\n",
    "    \n",
    "    for ii in range(1, n_anyons * n_qubits):\n",
    "        bg = lib.braiding_generator(ii, n_qubits, n_anyons-1, show=False)[0]\n",
    "        \n",
    "        # create a binary pickle file \n",
    "        f = open(f\"./braiding_generators/n{n_qubits}a{n_anyons-1}/braiding_generator{ii}.pkl\",\"wb\")\n",
    "        pickle.dump(bg, f)\n",
    "        f.close()"
   ]
  },
  {
   "cell_type": "code",
   "execution_count": 8,
   "id": "ee2f8b8f",
   "metadata": {},
   "outputs": [],
   "source": [
    "save_generators(1, 3)"
   ]
  },
  {
   "cell_type": "code",
   "execution_count": 3,
   "id": "3fe97c4f",
   "metadata": {},
   "outputs": [],
   "source": [
    "save_generators(2, 3)"
   ]
  },
  {
   "cell_type": "code",
   "execution_count": 4,
   "id": "f74737f6",
   "metadata": {},
   "outputs": [],
   "source": [
    "save_generators(3, 3)"
   ]
  },
  {
   "cell_type": "code",
   "execution_count": 5,
   "id": "328b503b",
   "metadata": {},
   "outputs": [],
   "source": [
    "save_generators(4, 3)"
   ]
  },
  {
   "cell_type": "code",
   "execution_count": 6,
   "id": "ad43b0c4",
   "metadata": {},
   "outputs": [],
   "source": [
    "save_generators(1, 4)"
   ]
  },
  {
   "cell_type": "code",
   "execution_count": 7,
   "id": "42a8ca72",
   "metadata": {},
   "outputs": [],
   "source": [
    "save_generators(2, 4)"
   ]
  },
  {
   "cell_type": "code",
   "execution_count": 8,
   "id": "05c93c24",
   "metadata": {},
   "outputs": [],
   "source": [
    "save_generators(3, 4)"
   ]
  },
  {
   "cell_type": "code",
   "execution_count": 9,
   "id": "a739e47d",
   "metadata": {},
   "outputs": [],
   "source": [
    "import pickle\n",
    "def find_basis(n_qudits, qudit_len):\n",
    "    \"\"\"\n",
    "    generates all states that form the basis of Hilbert space\n",
    "    of anyons grouped by qudits and fused qudit by qudit.\n",
    "    \n",
    "    Inputs:\n",
    "        n_qudits: int:\n",
    "            number of qudits.\n",
    "        qudit_len: int:\n",
    "            number of outcomes representing one qudit.\n",
    "    \"\"\"\n",
    "    \n",
    "    f = open(f\"./braiding_generators/n{n_qudits}a{qudit_len}/basis.pkl\",\"rb\")\n",
    "    states = pickle.load(f)\n",
    "    f.close()\n",
    "    \n",
    "    return states"
   ]
  },
  {
   "cell_type": "code",
   "execution_count": 10,
   "id": "8ef9788e",
   "metadata": {},
   "outputs": [
    {
     "data": {
      "text/plain": [
       "[{'qudits': [[1, 0]], 'roots': []},\n",
       " {'qudits': [[0, 1]], 'roots': []},\n",
       " {'qudits': [[1, 1]], 'roots': []}]"
      ]
     },
     "execution_count": 10,
     "metadata": {},
     "output_type": "execute_result"
    }
   ],
   "source": [
    "find_basis(1, 2)"
   ]
  },
  {
   "cell_type": "code",
   "execution_count": 11,
   "id": "20e95dcc",
   "metadata": {},
   "outputs": [
    {
     "data": {
      "text/plain": [
       "[{'qudits': [[1, 0], [1, 0]], 'roots': [0]},\n",
       " {'qudits': [[0, 1], [0, 1]], 'roots': [0]},\n",
       " {'qudits': [[1, 1], [0, 1]], 'roots': [0]},\n",
       " {'qudits': [[0, 1], [1, 1]], 'roots': [0]},\n",
       " {'qudits': [[1, 1], [1, 1]], 'roots': [0]},\n",
       " {'qudits': [[0, 1], [1, 0]], 'roots': [1]},\n",
       " {'qudits': [[1, 1], [1, 0]], 'roots': [1]},\n",
       " {'qudits': [[1, 0], [0, 1]], 'roots': [1]},\n",
       " {'qudits': [[0, 1], [0, 1]], 'roots': [1]},\n",
       " {'qudits': [[1, 1], [0, 1]], 'roots': [1]},\n",
       " {'qudits': [[1, 0], [1, 1]], 'roots': [1]},\n",
       " {'qudits': [[0, 1], [1, 1]], 'roots': [1]},\n",
       " {'qudits': [[1, 1], [1, 1]], 'roots': [1]}]"
      ]
     },
     "execution_count": 11,
     "metadata": {},
     "output_type": "execute_result"
    }
   ],
   "source": [
    "find_basis(2, 2)"
   ]
  },
  {
   "cell_type": "code",
   "execution_count": 12,
   "id": "57af1f43",
   "metadata": {},
   "outputs": [],
   "source": [
    "def braiding_generator(index, n_qudits, qudit_len, show=True):\n",
    "    \"\"\"\n",
    "    calculates matrix representation of the braiding generator -in the basis\n",
    "    of multi-qudit fusion space- which exchanges\n",
    "    index'th anyon with the (index + 1)'th anyon.\n",
    "    \n",
    "    Inputs:\n",
    "        index: int:\n",
    "            index of braiding operator.\n",
    "        n_qudits: int:\n",
    "            number of qudits.\n",
    "        qudit_len: int:\n",
    "            number of outcomes representing one qudit.\n",
    "    Returns:\n",
    "        (numpy.array whose dimension equals to the dimension of\n",
    "        anyons' Hilbert space, basis)\n",
    "    \"\"\"\n",
    "    f = open(f\"./braiding_generators/n{n_qudits}a{qudit_len}/braiding_generator{index}.pkl\",\"rb\")\n",
    "    \n",
    "    sig = pickle.load(f)\n",
    "    f.close()\n",
    "    \n",
    "    return sig"
   ]
  },
  {
   "cell_type": "code",
   "execution_count": 13,
   "id": "6c43f8bb",
   "metadata": {},
   "outputs": [
    {
     "data": {
      "text/plain": [
       "[[(-0.30901699437494734+0.9510565162951536j), 0j, (-0+0j)],\n",
       " [(-0+0j), (-0.8090169943749473-0.5877852522924732j), (-0+0j)],\n",
       " [(-0+0j), 0j, (-0.30901699437494734+0.9510565162951536j)]]"
      ]
     },
     "execution_count": 13,
     "metadata": {},
     "output_type": "execute_result"
    }
   ],
   "source": [
    "braiding_generator(1, 1, 2)"
   ]
  },
  {
   "cell_type": "code",
   "execution_count": 14,
   "id": "4d5545bb",
   "metadata": {},
   "outputs": [
    {
     "data": {
      "text/plain": [
       "[[(-0.30901699437494734+0.9510565162951536j), 0j, (-0+0j)],\n",
       " [0j,\n",
       "  (-0.49999999999999994+0.36327126400268045j),\n",
       "  (-0.24293413587832285-0.7476743906106105j)],\n",
       " [(-0+0j),\n",
       "  (-0.24293413587832285-0.7476743906106105j),\n",
       "  (-0.6180339887498947+4.3295623471913645e-17j)]]"
      ]
     },
     "execution_count": 14,
     "metadata": {},
     "output_type": "execute_result"
    }
   ],
   "source": [
    "braiding_generator(2, 1, 2)"
   ]
  },
  {
   "cell_type": "code",
   "execution_count": null,
   "id": "3ad27f45",
   "metadata": {},
   "outputs": [],
   "source": []
  }
 ],
 "metadata": {
  "kernelspec": {
   "display_name": "Python 3 (ipykernel)",
   "language": "python",
   "name": "python3"
  },
  "language_info": {
   "codemirror_mode": {
    "name": "ipython",
    "version": 3
   },
   "file_extension": ".py",
   "mimetype": "text/x-python",
   "name": "python",
   "nbconvert_exporter": "python",
   "pygments_lexer": "ipython3",
   "version": "3.10.4"
  }
 },
 "nbformat": 4,
 "nbformat_minor": 5
}
